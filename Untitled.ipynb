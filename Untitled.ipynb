{
 "cells": [
  {
   "cell_type": "code",
   "execution_count": 1,
   "metadata": {
    "collapsed": false,
    "scrolled": true
   },
   "outputs": [
    {
     "name": "stdout",
     "output_type": "stream",
     "text": [
      "Hello World!\n"
     ]
    }
   ],
   "source": [
    "print 'Hello World!'"
   ]
  },
  {
   "cell_type": "code",
   "execution_count": 18,
   "metadata": {
    "collapsed": false
   },
   "outputs": [],
   "source": [
    "EX_GRAPH0 = {0:set([1,2]) , 1:set([]) , 2:set([]) }\n",
    "EX_GRAPH1 = {0:set([1,4,5]), 1:set([2,6]), 2:set([3]), 3:set([0]), 4:set([1]), 5:set([2]), 6:set([])}\n",
    "EX_GRAPH2 = {0:set([1,4,5]), 1:set([2,6]), 2:set([3,7]), 3:set([7]), 4:set([1]), 5:set([2]), 6:set([]), 7:set([3]),\n",
    "            8:set([1,2]), 9:set([0,3,4,5,6,7])}\n",
    "\n",
    "def make_complete_graph(num_nodes):\n",
    "    digraph = {}\n",
    "    for start_node in range(0,num_nodes):\n",
    "        digraph[start_node] = set([])\n",
    "        for end_node in range(0,num_nodes):\n",
    "            if start_node != end_node:\n",
    "                digraph[start_node].add(end_node)\n",
    "    return digraph\n",
    "\n",
    "def compute_in_degrees(digraph):\n",
    "    degrees = {}\n",
    "    for key in digraph.keys():\n",
    "        degrees[key] = 0\n",
    "    for item in digraph.values():\n",
    "        for end_node in item:\n",
    "            degrees[end_node] += 1\n",
    "    return degrees\n",
    "\n",
    "def in_degree_distribution(digraph):\n",
    "    distribution = {}\n",
    "    degrees = compute_in_degrees(digraph)\n",
    "    for value in degrees.values():\n",
    "        if value in distribution:\n",
    "            distribution[value] += 1\n",
    "        else:\n",
    "            distribution[value] = 1\n",
    "    return distribution\n"
   ]
  },
  {
   "cell_type": "code",
   "execution_count": 3,
   "metadata": {
    "collapsed": false
   },
   "outputs": [
    {
     "name": "stdout",
     "output_type": "stream",
     "text": [
      "{0: set([1, 2]), 1: set([0]), 2: set([])}\n"
     ]
    }
   ],
   "source": [
    "print EX_GRAPH0"
   ]
  },
  {
   "cell_type": "code",
   "execution_count": 56,
   "metadata": {
    "collapsed": false
   },
   "outputs": [
    {
     "name": "stdout",
     "output_type": "stream",
     "text": [
      "Loaded graph with 27770 nodes\n",
      "27770\n"
     ]
    },
    {
     "name": "stderr",
     "output_type": "stream",
     "text": [
      "C:\\Anaconda\\lib\\site-packages\\IPython\\kernel\\__main__.py:78: RuntimeWarning: divide by zero encountered in log10\n"
     ]
    }
   ],
   "source": [
    "'''\n",
    "Algorithmic Thinking (part1), application 1\n",
    "directed graphs, citations of scientific papers\n",
    "https://class.coursera.org/algorithmicthink1-003/human_grading/view/courses/975649/assessments/31/submissions\n",
    "Author: Sakari Hakala\n",
    "'''\n",
    "\n",
    "import urllib2\n",
    "import matplotlib.pyplot as plt\n",
    "import numpy as np\n",
    "\n",
    "# Code for loading citation graph\n",
    "\n",
    "CITATION_URL = \"http://storage.googleapis.com/codeskulptor-alg/alg_phys-cite.txt\"\n",
    "\n",
    "def load_graph(graph_url):\n",
    "    \"\"\"\n",
    "    Function that loads a graph given the URL\n",
    "    for a text representation of the graph\n",
    "    \n",
    "    Returns a dictionary that models a graph\n",
    "    \"\"\"\n",
    "    graph_file = urllib2.urlopen(graph_url)\n",
    "    graph_text = graph_file.read()\n",
    "    graph_lines = graph_text.split('\\n')\n",
    "    graph_lines = graph_lines[ : -1]\n",
    "    \n",
    "    print \"Loaded graph with\", len(graph_lines), \"nodes\"\n",
    "    \n",
    "    answer_graph = {}\n",
    "    for line in graph_lines:\n",
    "        neighbors = line.split(' ')\n",
    "        node = int(neighbors[0])\n",
    "        answer_graph[node] = set([])\n",
    "        for neighbor in neighbors[1 : -1]:\n",
    "            answer_graph[node].add(int(neighbor))\n",
    "\n",
    "    return answer_graph\n",
    "\n",
    "def compute_in_degrees(digraph):\n",
    "    ''' Computes in degree of all nodes in given graph\n",
    "    '''\n",
    "    degrees = {}\n",
    "    for key in digraph.keys():\n",
    "        degrees[key] = 0\n",
    "    for item in digraph.values():\n",
    "        for end_node in item:\n",
    "            degrees[end_node] += 1\n",
    "    return degrees\n",
    "\n",
    "def in_degree_distribution(digraph):\n",
    "    ''' Computes distribution of in degrees in a given graph\n",
    "    '''\n",
    "    distribution = {}\n",
    "    degrees = compute_in_degrees(digraph)\n",
    "    for value in degrees.values():\n",
    "        if value in distribution:\n",
    "            distribution[value] += 1\n",
    "        else:\n",
    "            distribution[value] = 1\n",
    "    return distribution\n",
    "\n",
    "citation_graph = load_graph(CITATION_URL)\n",
    "in_degrees = in_degree_distribution(citation_graph)\n",
    "\n",
    "norm_values = []\n",
    "keys = []\n",
    "\n",
    "for key, value in in_degrees.iteritems():\n",
    "    keys.append(np.log10(key))\n",
    "    norm_values.append(np.log10(float(value)/27770))\n",
    "\n",
    "plt.scatter(keys,norm_values)\n",
    "plt.suptitle('in degree distribution, normalized.', fontsize = 20)\n",
    "plt.xlabel('number of citations, log10', fontsize = 12)\n",
    "plt.ylabel('frequency, log10', fontsize = 12)\n",
    "plt.show()\n"
   ]
  },
  {
   "cell_type": "code",
   "execution_count": 27,
   "metadata": {
    "collapsed": false
   },
   "outputs": [
    {
     "name": "stdout",
     "output_type": "stream",
     "text": [
      "[-0.32770183 -0.65566788  0.91053525 ..., -1.69500133  0.95842266\n",
      "  0.89181388]\n"
     ]
    }
   ],
   "source": [
    "import pylab as pl\n",
    "import numpy as np\n",
    "\n",
    "data = np.random.normal(size=10000)\n",
    "pl.hist(data,bins=np.logspace(0.1,1.0,50))\n",
    "pl.gca().set_xscale(\"log\")\n",
    "pl.show()\n",
    "print data"
   ]
  },
  {
   "cell_type": "code",
   "execution_count": 57,
   "metadata": {
    "collapsed": false
   },
   "outputs": [
    {
     "ename": "TypeError",
     "evalue": "'module' object is not callable",
     "output_type": "error",
     "traceback": [
      "\u001b[1;31m---------------------------------------------------------------------------\u001b[0m",
      "\u001b[1;31mTypeError\u001b[0m                                 Traceback (most recent call last)",
      "\u001b[1;32m<ipython-input-57-910bfe27f47c>\u001b[0m in \u001b[0;36m<module>\u001b[1;34m()\u001b[0m\n\u001b[0;32m     13\u001b[0m     \u001b[1;32mreturn\u001b[0m \u001b[0mdigraph\u001b[0m\u001b[1;33m\u001b[0m\u001b[0m\n\u001b[0;32m     14\u001b[0m \u001b[1;33m\u001b[0m\u001b[0m\n\u001b[1;32m---> 15\u001b[1;33m \u001b[1;32mprint\u001b[0m \u001b[0mrandom_digraph\u001b[0m\u001b[1;33m(\u001b[0m\u001b[1;36m3\u001b[0m\u001b[1;33m,\u001b[0m\u001b[1;36m1\u001b[0m\u001b[1;33m)\u001b[0m\u001b[1;33m\u001b[0m\u001b[0m\n\u001b[0m\u001b[0;32m     16\u001b[0m \u001b[1;33m\u001b[0m\u001b[0m\n",
      "\u001b[1;32m<ipython-input-57-910bfe27f47c>\u001b[0m in \u001b[0;36mrandom_digraph\u001b[1;34m(num_nodes, p)\u001b[0m\n\u001b[0;32m      8\u001b[0m         \u001b[1;32mfor\u001b[0m \u001b[0mend_node\u001b[0m \u001b[1;32min\u001b[0m \u001b[0mrange\u001b[0m\u001b[1;33m(\u001b[0m\u001b[0mnum_nodes\u001b[0m\u001b[1;33m)\u001b[0m\u001b[1;33m:\u001b[0m\u001b[1;33m\u001b[0m\u001b[0m\n\u001b[0;32m      9\u001b[0m             \u001b[1;32mif\u001b[0m \u001b[0mstart_node\u001b[0m \u001b[1;33m!=\u001b[0m \u001b[0mend_node\u001b[0m\u001b[1;33m:\u001b[0m\u001b[1;33m\u001b[0m\u001b[0m\n\u001b[1;32m---> 10\u001b[1;33m                 \u001b[0ma\u001b[0m \u001b[1;33m=\u001b[0m \u001b[0mrandom\u001b[0m\u001b[1;33m(\u001b[0m\u001b[1;36m0\u001b[0m\u001b[1;33m,\u001b[0m\u001b[1;36m1\u001b[0m\u001b[1;33m)\u001b[0m\u001b[1;33m\u001b[0m\u001b[0m\n\u001b[0m\u001b[0;32m     11\u001b[0m                 \u001b[1;32mif\u001b[0m \u001b[0ma\u001b[0m \u001b[1;33m<\u001b[0m \u001b[0mp\u001b[0m\u001b[1;33m:\u001b[0m\u001b[1;33m\u001b[0m\u001b[0m\n\u001b[0;32m     12\u001b[0m                     \u001b[0mdigraph\u001b[0m\u001b[1;33m[\u001b[0m\u001b[0mstart_node\u001b[0m\u001b[1;33m]\u001b[0m \u001b[1;33m|=\u001b[0m \u001b[0mend_node\u001b[0m\u001b[1;33m\u001b[0m\u001b[0m\n",
      "\u001b[1;31mTypeError\u001b[0m: 'module' object is not callable"
     ]
    }
   ],
   "source": [
    "import random\n",
    "\n",
    "def random_digraph(num_nodes, p):\n",
    "    digraph = {}\n",
    "    for node in range(num_nodes):\n",
    "        digraph[node] = set([])\n",
    "    for start_node in range(num_nodes):\n",
    "        for end_node in range(num_nodes):\n",
    "            if start_node != end_node:\n",
    "                a = random(0,1)\n",
    "                if a < p:\n",
    "                    digraph[start_node] |= end_node\n",
    "    return digraph\n",
    "\n",
    "\n",
    "\n",
    "\n",
    "print random_digraph(3,1)\n",
    "                    "
   ]
  },
  {
   "cell_type": "code",
   "execution_count": 67,
   "metadata": {
    "collapsed": false
   },
   "outputs": [],
   "source": [
    "import random\n",
    "import matplotlib.pyplot as plt\n",
    "\n",
    "def random_digraph(num_nodes, p):\n",
    "    digraph = {}\n",
    "    for node in range(num_nodes):\n",
    "        digraph[node] = set([])\n",
    "    for start_node in range(num_nodes):\n",
    "        for end_node in range(num_nodes):\n",
    "            if start_node != end_node:\n",
    "                a = random.random()\n",
    "                if a < p:\n",
    "                    digraph[start_node] |= set([end_node])\n",
    "    return digraph\n",
    "\n",
    "def compute_in_degrees(digraph):\n",
    "    ''' Computes in degree of all nodes in given graph\n",
    "    '''\n",
    "    degrees = {}\n",
    "    for key in digraph.keys():\n",
    "        degrees[key] = 0\n",
    "    for item in digraph.values():\n",
    "        for end_node in item:\n",
    "            degrees[end_node] += 1\n",
    "    return degrees\n",
    "\n",
    "def in_degree_distribution(digraph):\n",
    "    ''' Computes distribution of in degrees in a given graph\n",
    "    '''\n",
    "    distribution = {}\n",
    "    degrees = compute_in_degrees(digraph)\n",
    "    for value in degrees.values():\n",
    "        if value in distribution:\n",
    "            distribution[value] += 1\n",
    "        else:\n",
    "            distribution[value] = 1\n",
    "    return distribution\n",
    "\n",
    "#print random_digraph(3,1)\n",
    "g = random_digraph(10000,.1)\n",
    "g = in_degree_distribution(g)\n",
    "#print g\n",
    "x = []\n",
    "y = []\n",
    "\n",
    "for key,value in g.iteritems():\n",
    "    x.append(key)\n",
    "    y.append(value)    \n",
    "\n",
    "plt.scatter(x,y)\n",
    "plt.suptitle('distribution of a digraph with EX-algorithm, n = 10000 and p = 0.1')\n",
    "plt.xlabel('number of edges')\n",
    "plt.ylabel('frequency')\n",
    "plt.show()"
   ]
  },
  {
   "cell_type": "code",
   "execution_count": null,
   "metadata": {
    "collapsed": true
   },
   "outputs": [],
   "source": []
  }
 ],
 "metadata": {
  "kernelspec": {
   "display_name": "Python 2",
   "language": "python",
   "name": "python2"
  },
  "language_info": {
   "codemirror_mode": {
    "name": "ipython",
    "version": 2
   },
   "file_extension": ".py",
   "mimetype": "text/x-python",
   "name": "python",
   "nbconvert_exporter": "python",
   "pygments_lexer": "ipython2",
   "version": "2.7.10"
  }
 },
 "nbformat": 4,
 "nbformat_minor": 0
}
